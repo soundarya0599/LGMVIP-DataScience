{
  "nbformat": 4,
  "nbformat_minor": 0,
  "metadata": {
    "kernelspec": {
      "display_name": "Python 3",
      "language": "python",
      "name": "python3"
    },
    "language_info": {
      "codemirror_mode": {
        "name": "ipython",
        "version": 3
      },
      "file_extension": ".py",
      "mimetype": "text/x-python",
      "name": "python",
      "nbconvert_exporter": "python",
      "pygments_lexer": "ipython3",
      "version": "3.7.4"
    },
    "colab": {
      "name": "LGM-VIP-Data Science Task 2.ipynb",
      "provenance": []
    }
  },
  "cells": [
    {
      "cell_type": "markdown",
      "metadata": {
        "id": "ezh-_Q_LWTEK"
      },
      "source": [
        "---\n",
        "\n",
        "# <center><b>LetsGrowMore- Data Science Intern</b></center>  \n",
        "<font size=4><center>Author: Soundarya G</center></font>\n",
        "\n",
        "---"
      ]
    },
    {
      "cell_type": "markdown",
      "metadata": {
        "id": "ZCOpq_ovWTEU"
      },
      "source": [
        "## <center>TASK 2: Stock Market Prediction And Forecasting Using Stacked LSTM</center>"
      ]
    },
    {
      "cell_type": "markdown",
      "metadata": {
        "id": "YYDa_EdcWTEY"
      },
      "source": [
        "### Table of contents\n",
        "<br>\n",
        "<div>\n",
        "  <ul>\n",
        "    <li><a href=\"#intro\">Introduction</a></li>\n",
        "    <li><a href=\"#lib\">Importing necessary libraries</a></li>\n",
        "    <li><a href=\"#eda\">Loading Dataset</a></li>\n",
        "    <li><a href=\"#pre-processing\">Pre-processing</a></li>\n",
        "       <ul>\n",
        "        <li><a href=\"#dn\">Data Normalization</a></li>\n",
        "        <li><a href=\"#tt\">Spliting Dataset into Train and Test sets</a></li>\n",
        "      </ul>\n",
        "    <li><a href=\"#mb\">Model Building</a></li>\n",
        "      <ul>\n",
        "        <li><a href=\"#lstm\">LSTM</a></li>\n",
        "      </ul>\n",
        "    <li><a href=\"#results\">Predict the next 30 days Stock Price</a></li>\n",
        "  </ul>\n",
        "</div>"
      ]
    },
    {
      "cell_type": "markdown",
      "metadata": {
        "id": "7KOWHJxCWTEa"
      },
      "source": [
        "<h2 id=\"intro\">📌INTRODUCTION</h2>"
      ]
    },
    {
      "cell_type": "markdown",
      "metadata": {
        "id": "mT91kdSJWTEd"
      },
      "source": [
        "Stock values is very valuable but extremely hard to predict correctly for any human being on their own. This task seeks to solve the problem of Stock Prices Prediction by stacked Long-Short Term Memory (LSTM), to predict future stock values. "
      ]
    },
    {
      "cell_type": "markdown",
      "metadata": {
        "id": "kYO_0jEjWTEe"
      },
      "source": [
        "<h2 id=\"lib\">📌IMPORT THE NECESSARY LIBRARIES</h2>"
      ]
    },
    {
      "cell_type": "code",
      "metadata": {
        "id": "9uJXV0w2WTEh"
      },
      "source": [
        "import numpy as np\n",
        "import matplotlib.pyplot as plt\n",
        "import pandas as pd"
      ],
      "execution_count": null,
      "outputs": []
    },
    {
      "cell_type": "markdown",
      "metadata": {
        "id": "aOLlHUu4WTEl"
      },
      "source": [
        "<h2 id=\"load\">📌LOADING DATASET</h2>"
      ]
    },
    {
      "cell_type": "code",
      "metadata": {
        "id": "y1S9Nys7WTEo"
      },
      "source": [
        "url = 'https://raw.githubusercontent.com/mwitiderrick/stockprice/master/NSE-TATAGLOBAL.csv'\n",
        "dataset_train = pd.read_csv(url)\n",
        "training_set = dataset_train.iloc[:, 1:2].values"
      ],
      "execution_count": null,
      "outputs": []
    },
    {
      "cell_type": "code",
      "metadata": {
        "colab": {
          "base_uri": "https://localhost:8080/",
          "height": 202
        },
        "id": "GctqzVnoWTEt",
        "outputId": "ebdcf999-cb6d-40f7-b51c-2f5c816d9e45"
      },
      "source": [
        "dataset_train.head()"
      ],
      "execution_count": null,
      "outputs": [
        {
          "output_type": "execute_result",
          "data": {
            "text/html": [
              "<div>\n",
              "<style scoped>\n",
              "    .dataframe tbody tr th:only-of-type {\n",
              "        vertical-align: middle;\n",
              "    }\n",
              "\n",
              "    .dataframe tbody tr th {\n",
              "        vertical-align: top;\n",
              "    }\n",
              "\n",
              "    .dataframe thead th {\n",
              "        text-align: right;\n",
              "    }\n",
              "</style>\n",
              "<table border=\"1\" class=\"dataframe\">\n",
              "  <thead>\n",
              "    <tr style=\"text-align: right;\">\n",
              "      <th></th>\n",
              "      <th>Date</th>\n",
              "      <th>Open</th>\n",
              "      <th>High</th>\n",
              "      <th>Low</th>\n",
              "      <th>Last</th>\n",
              "      <th>Close</th>\n",
              "      <th>Total Trade Quantity</th>\n",
              "      <th>Turnover (Lacs)</th>\n",
              "    </tr>\n",
              "  </thead>\n",
              "  <tbody>\n",
              "    <tr>\n",
              "      <th>0</th>\n",
              "      <td>2018-09-28</td>\n",
              "      <td>234.05</td>\n",
              "      <td>235.95</td>\n",
              "      <td>230.20</td>\n",
              "      <td>233.50</td>\n",
              "      <td>233.75</td>\n",
              "      <td>3069914</td>\n",
              "      <td>7162.35</td>\n",
              "    </tr>\n",
              "    <tr>\n",
              "      <th>1</th>\n",
              "      <td>2018-09-27</td>\n",
              "      <td>234.55</td>\n",
              "      <td>236.80</td>\n",
              "      <td>231.10</td>\n",
              "      <td>233.80</td>\n",
              "      <td>233.25</td>\n",
              "      <td>5082859</td>\n",
              "      <td>11859.95</td>\n",
              "    </tr>\n",
              "    <tr>\n",
              "      <th>2</th>\n",
              "      <td>2018-09-26</td>\n",
              "      <td>240.00</td>\n",
              "      <td>240.00</td>\n",
              "      <td>232.50</td>\n",
              "      <td>235.00</td>\n",
              "      <td>234.25</td>\n",
              "      <td>2240909</td>\n",
              "      <td>5248.60</td>\n",
              "    </tr>\n",
              "    <tr>\n",
              "      <th>3</th>\n",
              "      <td>2018-09-25</td>\n",
              "      <td>233.30</td>\n",
              "      <td>236.75</td>\n",
              "      <td>232.00</td>\n",
              "      <td>236.25</td>\n",
              "      <td>236.10</td>\n",
              "      <td>2349368</td>\n",
              "      <td>5503.90</td>\n",
              "    </tr>\n",
              "    <tr>\n",
              "      <th>4</th>\n",
              "      <td>2018-09-24</td>\n",
              "      <td>233.55</td>\n",
              "      <td>239.20</td>\n",
              "      <td>230.75</td>\n",
              "      <td>234.00</td>\n",
              "      <td>233.30</td>\n",
              "      <td>3423509</td>\n",
              "      <td>7999.55</td>\n",
              "    </tr>\n",
              "  </tbody>\n",
              "</table>\n",
              "</div>"
            ],
            "text/plain": [
              "         Date    Open    High  ...   Close  Total Trade Quantity  Turnover (Lacs)\n",
              "0  2018-09-28  234.05  235.95  ...  233.75               3069914          7162.35\n",
              "1  2018-09-27  234.55  236.80  ...  233.25               5082859         11859.95\n",
              "2  2018-09-26  240.00  240.00  ...  234.25               2240909          5248.60\n",
              "3  2018-09-25  233.30  236.75  ...  236.10               2349368          5503.90\n",
              "4  2018-09-24  233.55  239.20  ...  233.30               3423509          7999.55\n",
              "\n",
              "[5 rows x 8 columns]"
            ]
          },
          "metadata": {},
          "execution_count": 3
        }
      ]
    },
    {
      "cell_type": "code",
      "metadata": {
        "id": "JWejn7ztWTEx"
      },
      "source": [
        "data_close = dataset_train['Close']"
      ],
      "execution_count": null,
      "outputs": []
    },
    {
      "cell_type": "code",
      "metadata": {
        "colab": {
          "base_uri": "https://localhost:8080/"
        },
        "id": "D44a2AYIWTEy",
        "outputId": "39f94e3a-49a0-4236-a524-ae62043a1709"
      },
      "source": [
        "data_close"
      ],
      "execution_count": null,
      "outputs": [
        {
          "output_type": "execute_result",
          "data": {
            "text/plain": [
              "0       233.75\n",
              "1       233.25\n",
              "2       234.25\n",
              "3       236.10\n",
              "4       233.30\n",
              "         ...  \n",
              "2030    118.65\n",
              "2031    117.60\n",
              "2032    120.65\n",
              "2033    120.90\n",
              "2034    121.55\n",
              "Name: Close, Length: 2035, dtype: float64"
            ]
          },
          "metadata": {},
          "execution_count": 5
        }
      ]
    },
    {
      "cell_type": "code",
      "metadata": {
        "colab": {
          "base_uri": "https://localhost:8080/",
          "height": 282
        },
        "id": "xOOhSj29WTEz",
        "outputId": "df9aaf89-10fe-472d-c396-4440d64974ef"
      },
      "source": [
        "plt.plot(data_close)"
      ],
      "execution_count": null,
      "outputs": [
        {
          "output_type": "execute_result",
          "data": {
            "text/plain": [
              "[<matplotlib.lines.Line2D at 0x7f145462f7d0>]"
            ]
          },
          "metadata": {},
          "execution_count": 6
        },
        {
          "output_type": "display_data",
          "data": {
            "image/png": "[encoded data removed]",
            "text/plain": [
              "<Figure size 432x288 with 1 Axes>"
            ]
          },
          "metadata": {
            "needs_background": "light"
          }
        }
      ]
    },
    {
      "cell_type": "markdown",
      "metadata": {
        "id": "FLUaFuF_WTE1"
      },
      "source": [
        "Since LSTM are sensitive to the scale of the data, so we apply MinMax Scaler to transform our values between 0 and 1"
      ]
    },
    {
      "cell_type": "markdown",
      "metadata": {
        "id": "cePKKI9uWTE2"
      },
      "source": [
        "<h2 id=\"pp\">📌PRE-PROCESSING</h2>"
      ]
    },
    {
      "cell_type": "markdown",
      "metadata": {
        "id": "LQpFSRQHWTE2"
      },
      "source": [
        "**Data Normalization**"
      ]
    },
    {
      "cell_type": "code",
      "metadata": {
        "id": "ExM9QM0MWTE3"
      },
      "source": [
        "from sklearn.preprocessing import MinMaxScaler\n",
        "scaler = MinMaxScaler(feature_range = (0,1))\n",
        "data_close = scaler.fit_transform(np.array(data_close).reshape(-1,1))"
      ],
      "execution_count": null,
      "outputs": []
    },
    {
      "cell_type": "code",
      "metadata": {
        "colab": {
          "base_uri": "https://localhost:8080/"
        },
        "id": "K-y2w--VWTE3",
        "outputId": "20c33900-32c5-42fd-d18c-277c945e68d6"
      },
      "source": [
        "data_close.shape"
      ],
      "execution_count": null,
      "outputs": [
        {
          "output_type": "execute_result",
          "data": {
            "text/plain": [
              "(2035, 1)"
            ]
          },
          "metadata": {},
          "execution_count": 8
        }
      ]
    },
    {
      "cell_type": "code",
      "metadata": {
        "colab": {
          "base_uri": "https://localhost:8080/"
        },
        "id": "LXM39rWLWTE4",
        "outputId": "ea51cfe5-243b-45ed-e2bf-a99d4d18b46d"
      },
      "source": [
        "print(data_close)"
      ],
      "execution_count": null,
      "outputs": [
        {
          "output_type": "stream",
          "text": [
            "[[0.62418301]\n",
            " [0.62214052]\n",
            " [0.62622549]\n",
            " ...\n",
            " [0.1621732 ]\n",
            " [0.16319444]\n",
            " [0.16584967]]\n"
          ],
          "name": "stdout"
        }
      ]
    },
    {
      "cell_type": "markdown",
      "metadata": {
        "id": "N5xyHgsRWTE5"
      },
      "source": [
        "**Splitting the dataset into Train and Test sets**"
      ]
    },
    {
      "cell_type": "code",
      "metadata": {
        "id": "GURqo9r4WTE5"
      },
      "source": [
        "training_size = int(len(data_close) * 0.75)\n",
        "test_size = len(data_close) - training_size\n",
        "train_data, test_data = data_close[0:training_size,:], data_close[training_size:len(data_close),:1]"
      ],
      "execution_count": null,
      "outputs": []
    },
    {
      "cell_type": "code",
      "metadata": {
        "id": "OtWyIouEWTE6"
      },
      "source": [
        "def create_dataset(dataset, time_step = 1):\n",
        "    dataX, dataY = [], []\n",
        "    for i in range(len(dataset) - time_step - 1):\n",
        "        a = dataset[i:(i+time_step), 0]\n",
        "        dataX.append(a)\n",
        "        dataY.append(dataset[i+time_step, 0])\n",
        "    return np.array(dataX), np.array(dataY)"
      ],
      "execution_count": null,
      "outputs": []
    },
    {
      "cell_type": "code",
      "metadata": {
        "id": "ZMSAS7P4WTE7"
      },
      "source": [
        "time_step = 100\n",
        "x_train, y_train = create_dataset(train_data, time_step)\n",
        "x_test, y_test = create_dataset(test_data, time_step)"
      ],
      "execution_count": null,
      "outputs": []
    },
    {
      "cell_type": "code",
      "metadata": {
        "id": "1-cSTlGgWTE8"
      },
      "source": [
        "#Reshape the input to be [samples, time steps, features] which is the requirement of LSTM\n",
        "x_train = x_train.reshape(x_train.shape[0], x_train.shape[1], 1)\n",
        "x_test = x_test.reshape(x_test.shape[0], x_test.shape[1], 1)"
      ],
      "execution_count": null,
      "outputs": []
    },
    {
      "cell_type": "markdown",
      "metadata": {
        "id": "HtBt3aUZWTE9"
      },
      "source": [
        "<h2 id=\"mb\">📌MODEL BUILDING</h2>"
      ]
    },
    {
      "cell_type": "code",
      "metadata": {
        "id": "UCuBJCiIWTE9"
      },
      "source": [
        "#pip install keras"
      ],
      "execution_count": null,
      "outputs": []
    },
    {
      "cell_type": "code",
      "metadata": {
        "id": "k2tHduovWTE9"
      },
      "source": [
        "#Create the LSTM Model\n",
        "from keras.models import Sequential\n",
        "from keras.layers import LSTM\n",
        "from keras.layers import Dropout\n",
        "from keras.layers import Dense\n",
        "model = Sequential()\n",
        "model.add(LSTM(50, return_sequences = True, input_shape = (100,1)))\n",
        "model.add(LSTM(50, return_sequences = True))\n",
        "model.add(LSTM(50))\n",
        "model.add(Dense(1))\n",
        "model.compile(loss = 'mean_squared_error', optimizer = 'adam')"
      ],
      "execution_count": null,
      "outputs": []
    },
    {
      "cell_type": "code",
      "metadata": {
        "colab": {
          "base_uri": "https://localhost:8080/"
        },
        "id": "Cpd8rBoIWTE-",
        "outputId": "9b66f27a-016f-431c-eb1a-f62d9ccb950b"
      },
      "source": [
        "model.summary()"
      ],
      "execution_count": null,
      "outputs": [
        {
          "output_type": "stream",
          "text": [
            "Model: \"sequential\"\n",
            "_________________________________________________________________\n",
            "Layer (type)                 Output Shape              Param #   \n",
            "=================================================================\n",
            "lstm (LSTM)                  (None, 100, 50)           10400     \n",
            "_________________________________________________________________\n",
            "lstm_1 (LSTM)                (None, 100, 50)           20200     \n",
            "_________________________________________________________________\n",
            "lstm_2 (LSTM)                (None, 50)                20200     \n",
            "_________________________________________________________________\n",
            "dense (Dense)                (None, 1)                 51        \n",
            "=================================================================\n",
            "Total params: 50,851\n",
            "Trainable params: 50,851\n",
            "Non-trainable params: 0\n",
            "_________________________________________________________________\n"
          ],
          "name": "stdout"
        }
      ]
    },
    {
      "cell_type": "code",
      "metadata": {
        "colab": {
          "base_uri": "https://localhost:8080/"
        },
        "id": "n2Y9SDBsWTE_",
        "outputId": "254b5abb-1ebb-4d8e-d146-ab1f090f0941"
      },
      "source": [
        "model.summary()"
      ],
      "execution_count": null,
      "outputs": [
        {
          "output_type": "stream",
          "text": [
            "Model: \"sequential\"\n",
            "_________________________________________________________________\n",
            "Layer (type)                 Output Shape              Param #   \n",
            "=================================================================\n",
            "lstm (LSTM)                  (None, 100, 50)           10400     \n",
            "_________________________________________________________________\n",
            "lstm_1 (LSTM)                (None, 100, 50)           20200     \n",
            "_________________________________________________________________\n",
            "lstm_2 (LSTM)                (None, 50)                20200     \n",
            "_________________________________________________________________\n",
            "dense (Dense)                (None, 1)                 51        \n",
            "=================================================================\n",
            "Total params: 50,851\n",
            "Trainable params: 50,851\n",
            "Non-trainable params: 0\n",
            "_________________________________________________________________\n"
          ],
          "name": "stdout"
        }
      ]
    },
    {
      "cell_type": "code",
      "metadata": {
        "scrolled": true,
        "colab": {
          "base_uri": "https://localhost:8080/"
        },
        "id": "AmnGQaSlWTFA",
        "outputId": "c1b08027-6efe-4f69-8289-ad92796da973"
      },
      "source": [
        "model.fit(x_train, y_train, validation_data = (x_test, y_test), epochs = 100, batch_size = 64, verbose = 1)"
      ],
      "execution_count": null,
      "outputs": [
        {
          "output_type": "stream",
          "text": [
            "Epoch 1/100\n",
            "23/23 [==============================] - 12s 257ms/step - loss: 0.0253 - val_loss: 0.0087\n",
            "Epoch 2/100\n",
            "23/23 [==============================] - 5s 204ms/step - loss: 0.0037 - val_loss: 9.4282e-04\n",
            "Epoch 3/100\n",
            "23/23 [==============================] - 5s 201ms/step - loss: 0.0016 - val_loss: 0.0013\n",
            "Epoch 4/100\n",
            "23/23 [==============================] - 5s 204ms/step - loss: 0.0015 - val_loss: 0.0014\n",
            "Epoch 5/100\n",
            "23/23 [==============================] - 5s 203ms/step - loss: 0.0014 - val_loss: 0.0010\n",
            "Epoch 6/100\n",
            "23/23 [==============================] - 5s 203ms/step - loss: 0.0013 - val_loss: 0.0011\n",
            "Epoch 7/100\n",
            "23/23 [==============================] - 5s 204ms/step - loss: 0.0012 - val_loss: 0.0011\n",
            "Epoch 8/100\n",
            "23/23 [==============================] - 5s 202ms/step - loss: 0.0012 - val_loss: 9.8614e-04\n",
            "Epoch 9/100\n",
            "23/23 [==============================] - 5s 204ms/step - loss: 0.0011 - val_loss: 0.0011\n",
            "Epoch 10/100\n",
            "23/23 [==============================] - 5s 205ms/step - loss: 0.0011 - val_loss: 8.5449e-04\n",
            "Epoch 11/100\n",
            "23/23 [==============================] - 5s 204ms/step - loss: 0.0012 - val_loss: 8.5015e-04\n",
            "Epoch 12/100\n",
            "23/23 [==============================] - 5s 201ms/step - loss: 0.0010 - val_loss: 0.0011\n",
            "Epoch 13/100\n",
            "23/23 [==============================] - 5s 206ms/step - loss: 9.8018e-04 - val_loss: 0.0011\n",
            "Epoch 14/100\n",
            "23/23 [==============================] - 5s 204ms/step - loss: 8.8726e-04 - val_loss: 8.1136e-04\n",
            "Epoch 15/100\n",
            "23/23 [==============================] - 5s 203ms/step - loss: 8.6354e-04 - val_loss: 9.2649e-04\n",
            "Epoch 16/100\n",
            "23/23 [==============================] - 5s 205ms/step - loss: 8.4866e-04 - val_loss: 7.4071e-04\n",
            "Epoch 17/100\n",
            "23/23 [==============================] - 5s 206ms/step - loss: 7.9973e-04 - val_loss: 7.2955e-04\n",
            "Epoch 18/100\n",
            "23/23 [==============================] - 5s 204ms/step - loss: 7.8569e-04 - val_loss: 8.8782e-04\n",
            "Epoch 19/100\n",
            "23/23 [==============================] - 5s 203ms/step - loss: 8.0511e-04 - val_loss: 0.0011\n",
            "Epoch 20/100\n",
            "23/23 [==============================] - 5s 206ms/step - loss: 9.5764e-04 - val_loss: 6.7732e-04\n",
            "Epoch 21/100\n",
            "23/23 [==============================] - 5s 208ms/step - loss: 8.3496e-04 - val_loss: 8.5265e-04\n",
            "Epoch 22/100\n",
            "23/23 [==============================] - 5s 207ms/step - loss: 7.5034e-04 - val_loss: 8.8869e-04\n",
            "Epoch 23/100\n",
            "23/23 [==============================] - 5s 205ms/step - loss: 7.0545e-04 - val_loss: 8.5740e-04\n",
            "Epoch 24/100\n",
            "23/23 [==============================] - 5s 204ms/step - loss: 7.3908e-04 - val_loss: 8.8193e-04\n",
            "Epoch 25/100\n",
            "23/23 [==============================] - 5s 204ms/step - loss: 6.7699e-04 - val_loss: 9.8909e-04\n",
            "Epoch 26/100\n",
            "23/23 [==============================] - 5s 205ms/step - loss: 6.5638e-04 - val_loss: 6.8022e-04\n",
            "Epoch 27/100\n",
            "23/23 [==============================] - 5s 205ms/step - loss: 6.5928e-04 - val_loss: 6.7229e-04\n",
            "Epoch 28/100\n",
            "23/23 [==============================] - 5s 204ms/step - loss: 6.4288e-04 - val_loss: 7.9469e-04\n",
            "Epoch 29/100\n",
            "23/23 [==============================] - 5s 205ms/step - loss: 6.0590e-04 - val_loss: 8.5250e-04\n",
            "Epoch 30/100\n",
            "23/23 [==============================] - 5s 205ms/step - loss: 5.8004e-04 - val_loss: 7.8584e-04\n",
            "Epoch 31/100\n",
            "23/23 [==============================] - 5s 203ms/step - loss: 5.8848e-04 - val_loss: 9.7740e-04\n",
            "Epoch 32/100\n",
            "23/23 [==============================] - 5s 204ms/step - loss: 5.7040e-04 - val_loss: 7.7272e-04\n",
            "Epoch 33/100\n",
            "23/23 [==============================] - 5s 202ms/step - loss: 6.0459e-04 - val_loss: 6.3888e-04\n",
            "Epoch 34/100\n",
            "23/23 [==============================] - 5s 204ms/step - loss: 5.5702e-04 - val_loss: 8.6056e-04\n",
            "Epoch 35/100\n",
            "23/23 [==============================] - 5s 204ms/step - loss: 5.4290e-04 - val_loss: 5.5911e-04\n",
            "Epoch 36/100\n",
            "23/23 [==============================] - 5s 203ms/step - loss: 5.2119e-04 - val_loss: 6.0874e-04\n",
            "Epoch 37/100\n",
            "23/23 [==============================] - 5s 202ms/step - loss: 5.5032e-04 - val_loss: 6.4602e-04\n",
            "Epoch 38/100\n",
            "23/23 [==============================] - 5s 202ms/step - loss: 5.6764e-04 - val_loss: 6.8735e-04\n",
            "Epoch 39/100\n",
            "23/23 [==============================] - 5s 205ms/step - loss: 4.9784e-04 - val_loss: 4.4842e-04\n",
            "Epoch 40/100\n",
            "23/23 [==============================] - 5s 202ms/step - loss: 6.1912e-04 - val_loss: 5.1267e-04\n",
            "Epoch 41/100\n",
            "23/23 [==============================] - 5s 202ms/step - loss: 6.0039e-04 - val_loss: 6.5052e-04\n",
            "Epoch 42/100\n",
            "23/23 [==============================] - 5s 203ms/step - loss: 4.8204e-04 - val_loss: 4.8968e-04\n",
            "Epoch 43/100\n",
            "23/23 [==============================] - 5s 201ms/step - loss: 4.6457e-04 - val_loss: 5.0675e-04\n",
            "Epoch 44/100\n",
            "23/23 [==============================] - 5s 204ms/step - loss: 4.5749e-04 - val_loss: 4.8437e-04\n",
            "Epoch 45/100\n",
            "23/23 [==============================] - 5s 205ms/step - loss: 5.4891e-04 - val_loss: 4.5090e-04\n",
            "Epoch 46/100\n",
            "23/23 [==============================] - 5s 205ms/step - loss: 4.4762e-04 - val_loss: 4.2485e-04\n",
            "Epoch 47/100\n",
            "23/23 [==============================] - 5s 208ms/step - loss: 4.9482e-04 - val_loss: 4.3593e-04\n",
            "Epoch 48/100\n",
            "23/23 [==============================] - 5s 205ms/step - loss: 4.3705e-04 - val_loss: 5.2198e-04\n",
            "Epoch 49/100\n",
            "23/23 [==============================] - 5s 203ms/step - loss: 4.2408e-04 - val_loss: 6.2261e-04\n",
            "Epoch 50/100\n",
            "23/23 [==============================] - 5s 203ms/step - loss: 4.4687e-04 - val_loss: 5.7977e-04\n",
            "Epoch 51/100\n",
            "23/23 [==============================] - 5s 201ms/step - loss: 4.5304e-04 - val_loss: 5.2048e-04\n",
            "Epoch 52/100\n",
            "23/23 [==============================] - 5s 201ms/step - loss: 4.2298e-04 - val_loss: 6.5094e-04\n",
            "Epoch 53/100\n",
            "23/23 [==============================] - 5s 202ms/step - loss: 4.7815e-04 - val_loss: 6.2639e-04\n",
            "Epoch 54/100\n",
            "23/23 [==============================] - 5s 202ms/step - loss: 3.7562e-04 - val_loss: 4.4834e-04\n",
            "Epoch 55/100\n",
            "23/23 [==============================] - 5s 202ms/step - loss: 3.6185e-04 - val_loss: 5.3288e-04\n",
            "Epoch 56/100\n",
            "23/23 [==============================] - 5s 203ms/step - loss: 3.6298e-04 - val_loss: 4.3709e-04\n",
            "Epoch 57/100\n",
            "23/23 [==============================] - 5s 202ms/step - loss: 4.0081e-04 - val_loss: 3.6119e-04\n",
            "Epoch 58/100\n",
            "23/23 [==============================] - 5s 202ms/step - loss: 3.4385e-04 - val_loss: 3.2018e-04\n",
            "Epoch 59/100\n",
            "23/23 [==============================] - 5s 203ms/step - loss: 4.0466e-04 - val_loss: 4.7057e-04\n",
            "Epoch 60/100\n",
            "23/23 [==============================] - 5s 204ms/step - loss: 4.5047e-04 - val_loss: 5.6652e-04\n",
            "Epoch 61/100\n",
            "23/23 [==============================] - 5s 202ms/step - loss: 3.7238e-04 - val_loss: 3.2941e-04\n",
            "Epoch 62/100\n",
            "23/23 [==============================] - 5s 201ms/step - loss: 3.2150e-04 - val_loss: 3.5674e-04\n",
            "Epoch 63/100\n",
            "23/23 [==============================] - 5s 202ms/step - loss: 3.0620e-04 - val_loss: 4.1898e-04\n",
            "Epoch 64/100\n",
            "23/23 [==============================] - 5s 202ms/step - loss: 3.5676e-04 - val_loss: 2.8146e-04\n",
            "Epoch 65/100\n",
            "23/23 [==============================] - 5s 205ms/step - loss: 3.5302e-04 - val_loss: 4.9826e-04\n",
            "Epoch 66/100\n",
            "23/23 [==============================] - 5s 203ms/step - loss: 3.1323e-04 - val_loss: 4.1192e-04\n",
            "Epoch 67/100\n",
            "23/23 [==============================] - 5s 203ms/step - loss: 3.2962e-04 - val_loss: 3.2820e-04\n",
            "Epoch 68/100\n",
            "23/23 [==============================] - 5s 204ms/step - loss: 3.6762e-04 - val_loss: 4.5650e-04\n",
            "Epoch 69/100\n",
            "23/23 [==============================] - 5s 204ms/step - loss: 3.2718e-04 - val_loss: 4.2607e-04\n",
            "Epoch 70/100\n",
            "23/23 [==============================] - 5s 203ms/step - loss: 3.2157e-04 - val_loss: 3.5698e-04\n",
            "Epoch 71/100\n",
            "23/23 [==============================] - 5s 202ms/step - loss: 2.8059e-04 - val_loss: 2.8436e-04\n",
            "Epoch 72/100\n",
            "23/23 [==============================] - 5s 203ms/step - loss: 2.7837e-04 - val_loss: 2.8901e-04\n",
            "Epoch 73/100\n",
            "23/23 [==============================] - 5s 203ms/step - loss: 2.8396e-04 - val_loss: 2.6104e-04\n",
            "Epoch 74/100\n",
            "23/23 [==============================] - 5s 203ms/step - loss: 3.0322e-04 - val_loss: 3.0288e-04\n",
            "Epoch 75/100\n",
            "23/23 [==============================] - 5s 203ms/step - loss: 3.1961e-04 - val_loss: 3.3813e-04\n",
            "Epoch 76/100\n",
            "23/23 [==============================] - 5s 202ms/step - loss: 2.9246e-04 - val_loss: 2.8301e-04\n",
            "Epoch 77/100\n",
            "23/23 [==============================] - 5s 201ms/step - loss: 2.9540e-04 - val_loss: 2.6028e-04\n",
            "Epoch 78/100\n",
            "23/23 [==============================] - 5s 202ms/step - loss: 2.5973e-04 - val_loss: 2.7565e-04\n",
            "Epoch 79/100\n",
            "23/23 [==============================] - 5s 203ms/step - loss: 2.5689e-04 - val_loss: 2.3227e-04\n",
            "Epoch 80/100\n",
            "23/23 [==============================] - 5s 202ms/step - loss: 2.5238e-04 - val_loss: 2.4215e-04\n",
            "Epoch 81/100\n",
            "23/23 [==============================] - 5s 204ms/step - loss: 2.4803e-04 - val_loss: 2.2988e-04\n",
            "Epoch 82/100\n",
            "23/23 [==============================] - 5s 203ms/step - loss: 2.6912e-04 - val_loss: 2.6925e-04\n",
            "Epoch 83/100\n",
            "23/23 [==============================] - 5s 202ms/step - loss: 2.3211e-04 - val_loss: 3.1098e-04\n",
            "Epoch 84/100\n",
            "23/23 [==============================] - 5s 202ms/step - loss: 2.3859e-04 - val_loss: 3.0651e-04\n",
            "Epoch 85/100\n",
            "23/23 [==============================] - 5s 204ms/step - loss: 2.3671e-04 - val_loss: 2.7994e-04\n",
            "Epoch 86/100\n",
            "23/23 [==============================] - 5s 202ms/step - loss: 2.4674e-04 - val_loss: 3.5725e-04\n",
            "Epoch 87/100\n",
            "23/23 [==============================] - 5s 201ms/step - loss: 2.4481e-04 - val_loss: 2.3177e-04\n",
            "Epoch 88/100\n",
            "23/23 [==============================] - 5s 203ms/step - loss: 2.8100e-04 - val_loss: 2.1944e-04\n",
            "Epoch 89/100\n",
            "23/23 [==============================] - 5s 202ms/step - loss: 2.3910e-04 - val_loss: 2.3494e-04\n",
            "Epoch 90/100\n",
            "23/23 [==============================] - 5s 204ms/step - loss: 2.2587e-04 - val_loss: 3.4964e-04\n",
            "Epoch 91/100\n",
            "23/23 [==============================] - 5s 204ms/step - loss: 2.2540e-04 - val_loss: 2.3072e-04\n",
            "Epoch 92/100\n",
            "23/23 [==============================] - 5s 201ms/step - loss: 3.0820e-04 - val_loss: 2.3844e-04\n",
            "Epoch 93/100\n",
            "23/23 [==============================] - 5s 202ms/step - loss: 3.4298e-04 - val_loss: 2.2627e-04\n",
            "Epoch 94/100\n",
            "23/23 [==============================] - 5s 204ms/step - loss: 2.3178e-04 - val_loss: 2.1521e-04\n",
            "Epoch 95/100\n",
            "23/23 [==============================] - 5s 201ms/step - loss: 2.1212e-04 - val_loss: 1.8595e-04\n",
            "Epoch 96/100\n",
            "23/23 [==============================] - 5s 201ms/step - loss: 2.2461e-04 - val_loss: 2.5662e-04\n",
            "Epoch 97/100\n",
            "23/23 [==============================] - 5s 202ms/step - loss: 2.1391e-04 - val_loss: 1.8642e-04\n",
            "Epoch 98/100\n",
            "23/23 [==============================] - 5s 202ms/step - loss: 3.2637e-04 - val_loss: 4.6577e-04\n",
            "Epoch 99/100\n",
            "23/23 [==============================] - 5s 200ms/step - loss: 3.0648e-04 - val_loss: 2.1094e-04\n",
            "Epoch 100/100\n",
            "23/23 [==============================] - 5s 201ms/step - loss: 2.1682e-04 - val_loss: 2.3639e-04\n"
          ],
          "name": "stdout"
        },
        {
          "output_type": "execute_result",
          "data": {
            "text/plain": [
              "<keras.callbacks.History at 0x7f1400d146d0>"
            ]
          },
          "metadata": {},
          "execution_count": 18
        }
      ]
    },
    {
      "cell_type": "code",
      "metadata": {
        "id": "-Pb9oyTXWTFA"
      },
      "source": [
        "#Lets predict and check performance metrics\n",
        "train_predict = model.predict(x_train)\n",
        "test_predict = model.predict(x_test)"
      ],
      "execution_count": null,
      "outputs": []
    },
    {
      "cell_type": "code",
      "metadata": {
        "id": "GHaInWVRWTFA"
      },
      "source": [
        "#Transform back to original form\n",
        "train_predict = scaler.inverse_transform(train_predict)\n",
        "test_predict = scaler.inverse_transform(test_predict)"
      ],
      "execution_count": null,
      "outputs": []
    },
    {
      "cell_type": "code",
      "metadata": {
        "colab": {
          "base_uri": "https://localhost:8080/"
        },
        "id": "sbywxI5YWTFB",
        "outputId": "f797f945-fb8f-412a-dc50-ead2d35d160b"
      },
      "source": [
        "#Calculate RMSE performance metrics\n",
        "import math\n",
        "from sklearn.metrics import mean_squared_error\n",
        "math.sqrt(mean_squared_error(y_train, train_predict))"
      ],
      "execution_count": null,
      "outputs": [
        {
          "output_type": "execute_result",
          "data": {
            "text/plain": [
              "162.54456978514486"
            ]
          },
          "metadata": {},
          "execution_count": 21
        }
      ]
    },
    {
      "cell_type": "code",
      "metadata": {
        "colab": {
          "base_uri": "https://localhost:8080/"
        },
        "id": "uD1spRohWTFC",
        "outputId": "88e30542-f590-4600-bffa-aaa7b60a84dc"
      },
      "source": [
        "#Test Data RMSE\n",
        "math.sqrt(mean_squared_error(y_test, test_predict))"
      ],
      "execution_count": null,
      "outputs": [
        {
          "output_type": "execute_result",
          "data": {
            "text/plain": [
              "106.22748841248169"
            ]
          },
          "metadata": {},
          "execution_count": 22
        }
      ]
    },
    {
      "cell_type": "code",
      "metadata": {
        "colab": {
          "base_uri": "https://localhost:8080/",
          "height": 264
        },
        "id": "1eYDhgeBWTFC",
        "outputId": "c355a74c-d468-48cf-a3d3-a76cae99ad3c"
      },
      "source": [
        "#Plotting\n",
        "\n",
        "#Shift train prediction for plotting\n",
        "look_back = 100\n",
        "trainPredictPlot = np.empty_like(data_close)\n",
        "trainPredictPlot[:,:] = np.nan\n",
        "trainPredictPlot[look_back:len(train_predict) + look_back, :] = train_predict\n",
        "\n",
        "#Shift test prediction for plotting\n",
        "testPredictPlot = np.empty_like(data_close)\n",
        "testPredictPlot[:,:] = np.nan\n",
        "testPredictPlot[len(train_predict) + (look_back * 2)+1:len(data_close) - 1, :] = test_predict\n",
        "\n",
        "#Plot baseline and predictions\n",
        "plt.plot(scaler.inverse_transform(data_close))\n",
        "plt.plot(trainPredictPlot)\n",
        "plt.plot(testPredictPlot)\n",
        "plt.show()"
      ],
      "execution_count": null,
      "outputs": [
        {
          "output_type": "display_data",
          "data": {
            "image/png": "[encoded data removed]",
            "text/plain": [
              "<Figure size 432x288 with 1 Axes>"
            ]
          },
          "metadata": {
            "needs_background": "light"
          }
        }
      ]
    },
    {
      "cell_type": "markdown",
      "metadata": {
        "id": "Vh2I8eptWTFD"
      },
      "source": [
        "<h2 id=\"sp\">📌Predict the next 30 days Stock Price</h2>"
      ]
    },
    {
      "cell_type": "code",
      "metadata": {
        "colab": {
          "base_uri": "https://localhost:8080/"
        },
        "id": "YVcTU8PyWTFD",
        "outputId": "dd739815-9253-48bb-89b4-9c842c4a7b11"
      },
      "source": [
        "len(test_data), x_test.shape"
      ],
      "execution_count": null,
      "outputs": [
        {
          "output_type": "execute_result",
          "data": {
            "text/plain": [
              "(509, (408, 100, 1))"
            ]
          },
          "metadata": {},
          "execution_count": 24
        }
      ]
    },
    {
      "cell_type": "code",
      "metadata": {
        "colab": {
          "base_uri": "https://localhost:8080/"
        },
        "id": "FOAgXtBGWTFD",
        "outputId": "6ffdc38b-7c42-46fa-b39e-8fa446318631"
      },
      "source": [
        "x_input = test_data[409:].reshape(1,-1)\n",
        "x_input.shape"
      ],
      "execution_count": null,
      "outputs": [
        {
          "output_type": "execute_result",
          "data": {
            "text/plain": [
              "(1, 100)"
            ]
          },
          "metadata": {},
          "execution_count": 25
        }
      ]
    },
    {
      "cell_type": "code",
      "metadata": {
        "id": "QjAxqvRHWTFE"
      },
      "source": [
        "temp_input = list(x_input)\n",
        "temp_input = temp_input[0].tolist()"
      ],
      "execution_count": null,
      "outputs": []
    },
    {
      "cell_type": "code",
      "metadata": {
        "scrolled": true,
        "colab": {
          "base_uri": "https://localhost:8080/"
        },
        "id": "mQG79W6bWTFE",
        "outputId": "06ee7b7d-4710-44da-8827-52d532f047d9"
      },
      "source": [
        "lst_output=[]\n",
        "n_steps=100\n",
        "nextNumberOfDays = 30\n",
        "i=0\n",
        "\n",
        "while(i<nextNumberOfDays):\n",
        "    \n",
        "    if(len(temp_input)>100):\n",
        "        x_input=np.array(temp_input[1:])\n",
        "        print(\"{} day input {}\".format(i,x_input))\n",
        "        x_input=x_input.reshape(1,-1)\n",
        "        x_input = x_input.reshape((1, n_steps, 1))\n",
        "        yhat = model.predict(x_input, verbose=0)\n",
        "        print(\"{} day output {}\".format(i,yhat))\n",
        "        temp_input.extend(yhat[0].tolist())\n",
        "        temp_input=temp_input[1:]\n",
        "        lst_output.extend(yhat.tolist())\n",
        "        i=i+1\n",
        "    else:\n",
        "        x_input = x_input.reshape((1, n_steps,1))\n",
        "        yhat = model.predict(x_input, verbose=0)\n",
        "        print(yhat[0])\n",
        "        temp_input.extend(yhat[0].tolist())\n",
        "        print(len(temp_input))\n",
        "        lst_output.extend(yhat.tolist())\n",
        "        i=i+1\n",
        "    \n",
        "\n",
        "print(lst_output)"
      ],
      "execution_count": null,
      "outputs": [
        {
          "output_type": "stream",
          "text": [
            "[0.16615]\n",
            "101\n",
            "1 day input [0.13848039 0.14011438 0.13888889 0.13541667 0.14011438 0.1380719\n",
            " 0.13071895 0.13071895 0.12867647 0.11846405 0.14644608 0.14808007\n",
            " 0.15910948 0.15992647 0.15788399 0.16441993 0.17892157 0.17933007\n",
            " 0.19260621 0.20812908 0.18974673 0.18055556 0.18239379 0.17708333\n",
            " 0.17810458 0.18055556 0.17810458 0.17851307 0.19607843 0.18913399\n",
            " 0.18954248 0.19403595 0.19444444 0.20200163 0.19771242 0.19934641\n",
            " 0.19873366 0.1997549  0.2128268  0.21568627 0.20445261 0.21772876\n",
            " 0.21098856 0.21425654 0.19750817 0.18811275 0.17851307 0.17381536\n",
            " 0.16033497 0.16564542 0.17116013 0.17422386 0.18035131 0.17401961\n",
            " 0.16278595 0.16973039 0.17810458 0.17034314 0.16830065 0.17279412\n",
            " 0.17544935 0.18382353 0.19138072 0.18913399 0.19097222 0.17238562\n",
            " 0.16830065 0.1693219  0.17177288 0.16156046 0.14971405 0.1503268\n",
            " 0.15196078 0.14726307 0.14501634 0.14603758 0.12479575 0.13112745\n",
            " 0.11397059 0.1190768  0.12377451 0.13562092 0.12908497 0.13459967\n",
            " 0.12806373 0.13031046 0.12724673 0.13521242 0.14522059 0.15257353\n",
            " 0.14848856 0.14338235 0.14562908 0.15236928 0.15400327 0.14971405\n",
            " 0.1621732  0.16319444 0.16584967 0.16615   ]\n",
            "1 day output [[0.1682977]]\n",
            "2 day input [0.14011438 0.13888889 0.13541667 0.14011438 0.1380719  0.13071895\n",
            " 0.13071895 0.12867647 0.11846405 0.14644608 0.14808007 0.15910948\n",
            " 0.15992647 0.15788399 0.16441993 0.17892157 0.17933007 0.19260621\n",
            " 0.20812908 0.18974673 0.18055556 0.18239379 0.17708333 0.17810458\n",
            " 0.18055556 0.17810458 0.17851307 0.19607843 0.18913399 0.18954248\n",
            " 0.19403595 0.19444444 0.20200163 0.19771242 0.19934641 0.19873366\n",
            " 0.1997549  0.2128268  0.21568627 0.20445261 0.21772876 0.21098856\n",
            " 0.21425654 0.19750817 0.18811275 0.17851307 0.17381536 0.16033497\n",
            " 0.16564542 0.17116013 0.17422386 0.18035131 0.17401961 0.16278595\n",
            " 0.16973039 0.17810458 0.17034314 0.16830065 0.17279412 0.17544935\n",
            " 0.18382353 0.19138072 0.18913399 0.19097222 0.17238562 0.16830065\n",
            " 0.1693219  0.17177288 0.16156046 0.14971405 0.1503268  0.15196078\n",
            " 0.14726307 0.14501634 0.14603758 0.12479575 0.13112745 0.11397059\n",
            " 0.1190768  0.12377451 0.13562092 0.12908497 0.13459967 0.12806373\n",
            " 0.13031046 0.12724673 0.13521242 0.14522059 0.15257353 0.14848856\n",
            " 0.14338235 0.14562908 0.15236928 0.15400327 0.14971405 0.1621732\n",
            " 0.16319444 0.16584967 0.16615    0.16829769]\n",
            "2 day output [[0.16965233]]\n",
            "3 day input [0.13888889 0.13541667 0.14011438 0.1380719  0.13071895 0.13071895\n",
            " 0.12867647 0.11846405 0.14644608 0.14808007 0.15910948 0.15992647\n",
            " 0.15788399 0.16441993 0.17892157 0.17933007 0.19260621 0.20812908\n",
            " 0.18974673 0.18055556 0.18239379 0.17708333 0.17810458 0.18055556\n",
            " 0.17810458 0.17851307 0.19607843 0.18913399 0.18954248 0.19403595\n",
            " 0.19444444 0.20200163 0.19771242 0.19934641 0.19873366 0.1997549\n",
            " 0.2128268  0.21568627 0.20445261 0.21772876 0.21098856 0.21425654\n",
            " 0.19750817 0.18811275 0.17851307 0.17381536 0.16033497 0.16564542\n",
            " 0.17116013 0.17422386 0.18035131 0.17401961 0.16278595 0.16973039\n",
            " 0.17810458 0.17034314 0.16830065 0.17279412 0.17544935 0.18382353\n",
            " 0.19138072 0.18913399 0.19097222 0.17238562 0.16830065 0.1693219\n",
            " 0.17177288 0.16156046 0.14971405 0.1503268  0.15196078 0.14726307\n",
            " 0.14501634 0.14603758 0.12479575 0.13112745 0.11397059 0.1190768\n",
            " 0.12377451 0.13562092 0.12908497 0.13459967 0.12806373 0.13031046\n",
            " 0.12724673 0.13521242 0.14522059 0.15257353 0.14848856 0.14338235\n",
            " 0.14562908 0.15236928 0.15400327 0.14971405 0.1621732  0.16319444\n",
            " 0.16584967 0.16615    0.16829769 0.16965233]\n",
            "3 day output [[0.17067352]]\n",
            "4 day input [0.13541667 0.14011438 0.1380719  0.13071895 0.13071895 0.12867647\n",
            " 0.11846405 0.14644608 0.14808007 0.15910948 0.15992647 0.15788399\n",
            " 0.16441993 0.17892157 0.17933007 0.19260621 0.20812908 0.18974673\n",
            " 0.18055556 0.18239379 0.17708333 0.17810458 0.18055556 0.17810458\n",
            " 0.17851307 0.19607843 0.18913399 0.18954248 0.19403595 0.19444444\n",
            " 0.20200163 0.19771242 0.19934641 0.19873366 0.1997549  0.2128268\n",
            " 0.21568627 0.20445261 0.21772876 0.21098856 0.21425654 0.19750817\n",
            " 0.18811275 0.17851307 0.17381536 0.16033497 0.16564542 0.17116013\n",
            " 0.17422386 0.18035131 0.17401961 0.16278595 0.16973039 0.17810458\n",
            " 0.17034314 0.16830065 0.17279412 0.17544935 0.18382353 0.19138072\n",
            " 0.18913399 0.19097222 0.17238562 0.16830065 0.1693219  0.17177288\n",
            " 0.16156046 0.14971405 0.1503268  0.15196078 0.14726307 0.14501634\n",
            " 0.14603758 0.12479575 0.13112745 0.11397059 0.1190768  0.12377451\n",
            " 0.13562092 0.12908497 0.13459967 0.12806373 0.13031046 0.12724673\n",
            " 0.13521242 0.14522059 0.15257353 0.14848856 0.14338235 0.14562908\n",
            " 0.15236928 0.15400327 0.14971405 0.1621732  0.16319444 0.16584967\n",
            " 0.16615    0.16829769 0.16965233 0.17067352]\n",
            "4 day output [[0.17153807]]\n",
            "5 day input [0.14011438 0.1380719  0.13071895 0.13071895 0.12867647 0.11846405\n",
            " 0.14644608 0.14808007 0.15910948 0.15992647 0.15788399 0.16441993\n",
            " 0.17892157 0.17933007 0.19260621 0.20812908 0.18974673 0.18055556\n",
            " 0.18239379 0.17708333 0.17810458 0.18055556 0.17810458 0.17851307\n",
            " 0.19607843 0.18913399 0.18954248 0.19403595 0.19444444 0.20200163\n",
            " 0.19771242 0.19934641 0.19873366 0.1997549  0.2128268  0.21568627\n",
            " 0.20445261 0.21772876 0.21098856 0.21425654 0.19750817 0.18811275\n",
            " 0.17851307 0.17381536 0.16033497 0.16564542 0.17116013 0.17422386\n",
            " 0.18035131 0.17401961 0.16278595 0.16973039 0.17810458 0.17034314\n",
            " 0.16830065 0.17279412 0.17544935 0.18382353 0.19138072 0.18913399\n",
            " 0.19097222 0.17238562 0.16830065 0.1693219  0.17177288 0.16156046\n",
            " 0.14971405 0.1503268  0.15196078 0.14726307 0.14501634 0.14603758\n",
            " 0.12479575 0.13112745 0.11397059 0.1190768  0.12377451 0.13562092\n",
            " 0.12908497 0.13459967 0.12806373 0.13031046 0.12724673 0.13521242\n",
            " 0.14522059 0.15257353 0.14848856 0.14338235 0.14562908 0.15236928\n",
            " 0.15400327 0.14971405 0.1621732  0.16319444 0.16584967 0.16615\n",
            " 0.16829769 0.16965233 0.17067352 0.17153807]\n",
            "5 day output [[0.17231633]]\n",
            "6 day input [0.1380719  0.13071895 0.13071895 0.12867647 0.11846405 0.14644608\n",
            " 0.14808007 0.15910948 0.15992647 0.15788399 0.16441993 0.17892157\n",
            " 0.17933007 0.19260621 0.20812908 0.18974673 0.18055556 0.18239379\n",
            " 0.17708333 0.17810458 0.18055556 0.17810458 0.17851307 0.19607843\n",
            " 0.18913399 0.18954248 0.19403595 0.19444444 0.20200163 0.19771242\n",
            " 0.19934641 0.19873366 0.1997549  0.2128268  0.21568627 0.20445261\n",
            " 0.21772876 0.21098856 0.21425654 0.19750817 0.18811275 0.17851307\n",
            " 0.17381536 0.16033497 0.16564542 0.17116013 0.17422386 0.18035131\n",
            " 0.17401961 0.16278595 0.16973039 0.17810458 0.17034314 0.16830065\n",
            " 0.17279412 0.17544935 0.18382353 0.19138072 0.18913399 0.19097222\n",
            " 0.17238562 0.16830065 0.1693219  0.17177288 0.16156046 0.14971405\n",
            " 0.1503268  0.15196078 0.14726307 0.14501634 0.14603758 0.12479575\n",
            " 0.13112745 0.11397059 0.1190768  0.12377451 0.13562092 0.12908497\n",
            " 0.13459967 0.12806373 0.13031046 0.12724673 0.13521242 0.14522059\n",
            " 0.15257353 0.14848856 0.14338235 0.14562908 0.15236928 0.15400327\n",
            " 0.14971405 0.1621732  0.16319444 0.16584967 0.16615    0.16829769\n",
            " 0.16965233 0.17067352 0.17153807 0.17231633]\n",
            "6 day output [[0.17304663]]\n",
            "7 day input [0.13071895 0.13071895 0.12867647 0.11846405 0.14644608 0.14808007\n",
            " 0.15910948 0.15992647 0.15788399 0.16441993 0.17892157 0.17933007\n",
            " 0.19260621 0.20812908 0.18974673 0.18055556 0.18239379 0.17708333\n",
            " 0.17810458 0.18055556 0.17810458 0.17851307 0.19607843 0.18913399\n",
            " 0.18954248 0.19403595 0.19444444 0.20200163 0.19771242 0.19934641\n",
            " 0.19873366 0.1997549  0.2128268  0.21568627 0.20445261 0.21772876\n",
            " 0.21098856 0.21425654 0.19750817 0.18811275 0.17851307 0.17381536\n",
            " 0.16033497 0.16564542 0.17116013 0.17422386 0.18035131 0.17401961\n",
            " 0.16278595 0.16973039 0.17810458 0.17034314 0.16830065 0.17279412\n",
            " 0.17544935 0.18382353 0.19138072 0.18913399 0.19097222 0.17238562\n",
            " 0.16830065 0.1693219  0.17177288 0.16156046 0.14971405 0.1503268\n",
            " 0.15196078 0.14726307 0.14501634 0.14603758 0.12479575 0.13112745\n",
            " 0.11397059 0.1190768  0.12377451 0.13562092 0.12908497 0.13459967\n",
            " 0.12806373 0.13031046 0.12724673 0.13521242 0.14522059 0.15257353\n",
            " 0.14848856 0.14338235 0.14562908 0.15236928 0.15400327 0.14971405\n",
            " 0.1621732  0.16319444 0.16584967 0.16615    0.16829769 0.16965233\n",
            " 0.17067352 0.17153807 0.17231633 0.17304663]\n",
            "7 day output [[0.17375425]]\n",
            "8 day input [0.13071895 0.12867647 0.11846405 0.14644608 0.14808007 0.15910948\n",
            " 0.15992647 0.15788399 0.16441993 0.17892157 0.17933007 0.19260621\n",
            " 0.20812908 0.18974673 0.18055556 0.18239379 0.17708333 0.17810458\n",
            " 0.18055556 0.17810458 0.17851307 0.19607843 0.18913399 0.18954248\n",
            " 0.19403595 0.19444444 0.20200163 0.19771242 0.19934641 0.19873366\n",
            " 0.1997549  0.2128268  0.21568627 0.20445261 0.21772876 0.21098856\n",
            " 0.21425654 0.19750817 0.18811275 0.17851307 0.17381536 0.16033497\n",
            " 0.16564542 0.17116013 0.17422386 0.18035131 0.17401961 0.16278595\n",
            " 0.16973039 0.17810458 0.17034314 0.16830065 0.17279412 0.17544935\n",
            " 0.18382353 0.19138072 0.18913399 0.19097222 0.17238562 0.16830065\n",
            " 0.1693219  0.17177288 0.16156046 0.14971405 0.1503268  0.15196078\n",
            " 0.14726307 0.14501634 0.14603758 0.12479575 0.13112745 0.11397059\n",
            " 0.1190768  0.12377451 0.13562092 0.12908497 0.13459967 0.12806373\n",
            " 0.13031046 0.12724673 0.13521242 0.14522059 0.15257353 0.14848856\n",
            " 0.14338235 0.14562908 0.15236928 0.15400327 0.14971405 0.1621732\n",
            " 0.16319444 0.16584967 0.16615    0.16829769 0.16965233 0.17067352\n",
            " 0.17153807 0.17231633 0.17304663 0.17375425]\n",
            "8 day output [[0.17445453]]\n",
            "9 day input [0.12867647 0.11846405 0.14644608 0.14808007 0.15910948 0.15992647\n",
            " 0.15788399 0.16441993 0.17892157 0.17933007 0.19260621 0.20812908\n",
            " 0.18974673 0.18055556 0.18239379 0.17708333 0.17810458 0.18055556\n",
            " 0.17810458 0.17851307 0.19607843 0.18913399 0.18954248 0.19403595\n",
            " 0.19444444 0.20200163 0.19771242 0.19934641 0.19873366 0.1997549\n",
            " 0.2128268  0.21568627 0.20445261 0.21772876 0.21098856 0.21425654\n",
            " 0.19750817 0.18811275 0.17851307 0.17381536 0.16033497 0.16564542\n",
            " 0.17116013 0.17422386 0.18035131 0.17401961 0.16278595 0.16973039\n",
            " 0.17810458 0.17034314 0.16830065 0.17279412 0.17544935 0.18382353\n",
            " 0.19138072 0.18913399 0.19097222 0.17238562 0.16830065 0.1693219\n",
            " 0.17177288 0.16156046 0.14971405 0.1503268  0.15196078 0.14726307\n",
            " 0.14501634 0.14603758 0.12479575 0.13112745 0.11397059 0.1190768\n",
            " 0.12377451 0.13562092 0.12908497 0.13459967 0.12806373 0.13031046\n",
            " 0.12724673 0.13521242 0.14522059 0.15257353 0.14848856 0.14338235\n",
            " 0.14562908 0.15236928 0.15400327 0.14971405 0.1621732  0.16319444\n",
            " 0.16584967 0.16615    0.16829769 0.16965233 0.17067352 0.17153807\n",
            " 0.17231633 0.17304663 0.17375425 0.17445453]\n",
            "9 day output [[0.1751543]]\n",
            "10 day input [0.11846405 0.14644608 0.14808007 0.15910948 0.15992647 0.15788399\n",
            " 0.16441993 0.17892157 0.17933007 0.19260621 0.20812908 0.18974673\n",
            " 0.18055556 0.18239379 0.17708333 0.17810458 0.18055556 0.17810458\n",
            " 0.17851307 0.19607843 0.18913399 0.18954248 0.19403595 0.19444444\n",
            " 0.20200163 0.19771242 0.19934641 0.19873366 0.1997549  0.2128268\n",
            " 0.21568627 0.20445261 0.21772876 0.21098856 0.21425654 0.19750817\n",
            " 0.18811275 0.17851307 0.17381536 0.16033497 0.16564542 0.17116013\n",
            " 0.17422386 0.18035131 0.17401961 0.16278595 0.16973039 0.17810458\n",
            " 0.17034314 0.16830065 0.17279412 0.17544935 0.18382353 0.19138072\n",
            " 0.18913399 0.19097222 0.17238562 0.16830065 0.1693219  0.17177288\n",
            " 0.16156046 0.14971405 0.1503268  0.15196078 0.14726307 0.14501634\n",
            " 0.14603758 0.12479575 0.13112745 0.11397059 0.1190768  0.12377451\n",
            " 0.13562092 0.12908497 0.13459967 0.12806373 0.13031046 0.12724673\n",
            " 0.13521242 0.14522059 0.15257353 0.14848856 0.14338235 0.14562908\n",
            " 0.15236928 0.15400327 0.14971405 0.1621732  0.16319444 0.16584967\n",
            " 0.16615    0.16829769 0.16965233 0.17067352 0.17153807 0.17231633\n",
            " 0.17304663 0.17375425 0.17445453 0.1751543 ]\n",
            "10 day output [[0.17585433]]\n",
            "11 day input [0.14644608 0.14808007 0.15910948 0.15992647 0.15788399 0.16441993\n",
            " 0.17892157 0.17933007 0.19260621 0.20812908 0.18974673 0.18055556\n",
            " 0.18239379 0.17708333 0.17810458 0.18055556 0.17810458 0.17851307\n",
            " 0.19607843 0.18913399 0.18954248 0.19403595 0.19444444 0.20200163\n",
            " 0.19771242 0.19934641 0.19873366 0.1997549  0.2128268  0.21568627\n",
            " 0.20445261 0.21772876 0.21098856 0.21425654 0.19750817 0.18811275\n",
            " 0.17851307 0.17381536 0.16033497 0.16564542 0.17116013 0.17422386\n",
            " 0.18035131 0.17401961 0.16278595 0.16973039 0.17810458 0.17034314\n",
            " 0.16830065 0.17279412 0.17544935 0.18382353 0.19138072 0.18913399\n",
            " 0.19097222 0.17238562 0.16830065 0.1693219  0.17177288 0.16156046\n",
            " 0.14971405 0.1503268  0.15196078 0.14726307 0.14501634 0.14603758\n",
            " 0.12479575 0.13112745 0.11397059 0.1190768  0.12377451 0.13562092\n",
            " 0.12908497 0.13459967 0.12806373 0.13031046 0.12724673 0.13521242\n",
            " 0.14522059 0.15257353 0.14848856 0.14338235 0.14562908 0.15236928\n",
            " 0.15400327 0.14971405 0.1621732  0.16319444 0.16584967 0.16615\n",
            " 0.16829769 0.16965233 0.17067352 0.17153807 0.17231633 0.17304663\n",
            " 0.17375425 0.17445453 0.1751543  0.17585433]\n",
            "11 day output [[0.17655146]]\n",
            "12 day input [0.14808007 0.15910948 0.15992647 0.15788399 0.16441993 0.17892157\n",
            " 0.17933007 0.19260621 0.20812908 0.18974673 0.18055556 0.18239379\n",
            " 0.17708333 0.17810458 0.18055556 0.17810458 0.17851307 0.19607843\n",
            " 0.18913399 0.18954248 0.19403595 0.19444444 0.20200163 0.19771242\n",
            " 0.19934641 0.19873366 0.1997549  0.2128268  0.21568627 0.20445261\n",
            " 0.21772876 0.21098856 0.21425654 0.19750817 0.18811275 0.17851307\n",
            " 0.17381536 0.16033497 0.16564542 0.17116013 0.17422386 0.18035131\n",
            " 0.17401961 0.16278595 0.16973039 0.17810458 0.17034314 0.16830065\n",
            " 0.17279412 0.17544935 0.18382353 0.19138072 0.18913399 0.19097222\n",
            " 0.17238562 0.16830065 0.1693219  0.17177288 0.16156046 0.14971405\n",
            " 0.1503268  0.15196078 0.14726307 0.14501634 0.14603758 0.12479575\n",
            " 0.13112745 0.11397059 0.1190768  0.12377451 0.13562092 0.12908497\n",
            " 0.13459967 0.12806373 0.13031046 0.12724673 0.13521242 0.14522059\n",
            " 0.15257353 0.14848856 0.14338235 0.14562908 0.15236928 0.15400327\n",
            " 0.14971405 0.1621732  0.16319444 0.16584967 0.16615    0.16829769\n",
            " 0.16965233 0.17067352 0.17153807 0.17231633 0.17304663 0.17375425\n",
            " 0.17445453 0.1751543  0.17585433 0.17655146]\n",
            "12 day output [[0.1772409]]\n",
            "13 day input [0.15910948 0.15992647 0.15788399 0.16441993 0.17892157 0.17933007\n",
            " 0.19260621 0.20812908 0.18974673 0.18055556 0.18239379 0.17708333\n",
            " 0.17810458 0.18055556 0.17810458 0.17851307 0.19607843 0.18913399\n",
            " 0.18954248 0.19403595 0.19444444 0.20200163 0.19771242 0.19934641\n",
            " 0.19873366 0.1997549  0.2128268  0.21568627 0.20445261 0.21772876\n",
            " 0.21098856 0.21425654 0.19750817 0.18811275 0.17851307 0.17381536\n",
            " 0.16033497 0.16564542 0.17116013 0.17422386 0.18035131 0.17401961\n",
            " 0.16278595 0.16973039 0.17810458 0.17034314 0.16830065 0.17279412\n",
            " 0.17544935 0.18382353 0.19138072 0.18913399 0.19097222 0.17238562\n",
            " 0.16830065 0.1693219  0.17177288 0.16156046 0.14971405 0.1503268\n",
            " 0.15196078 0.14726307 0.14501634 0.14603758 0.12479575 0.13112745\n",
            " 0.11397059 0.1190768  0.12377451 0.13562092 0.12908497 0.13459967\n",
            " 0.12806373 0.13031046 0.12724673 0.13521242 0.14522059 0.15257353\n",
            " 0.14848856 0.14338235 0.14562908 0.15236928 0.15400327 0.14971405\n",
            " 0.1621732  0.16319444 0.16584967 0.16615    0.16829769 0.16965233\n",
            " 0.17067352 0.17153807 0.17231633 0.17304663 0.17375425 0.17445453\n",
            " 0.1751543  0.17585433 0.17655146 0.17724089]\n",
            "13 day output [[0.17791775]]\n",
            "14 day input [0.15992647 0.15788399 0.16441993 0.17892157 0.17933007 0.19260621\n",
            " 0.20812908 0.18974673 0.18055556 0.18239379 0.17708333 0.17810458\n",
            " 0.18055556 0.17810458 0.17851307 0.19607843 0.18913399 0.18954248\n",
            " 0.19403595 0.19444444 0.20200163 0.19771242 0.19934641 0.19873366\n",
            " 0.1997549  0.2128268  0.21568627 0.20445261 0.21772876 0.21098856\n",
            " 0.21425654 0.19750817 0.18811275 0.17851307 0.17381536 0.16033497\n",
            " 0.16564542 0.17116013 0.17422386 0.18035131 0.17401961 0.16278595\n",
            " 0.16973039 0.17810458 0.17034314 0.16830065 0.17279412 0.17544935\n",
            " 0.18382353 0.19138072 0.18913399 0.19097222 0.17238562 0.16830065\n",
            " 0.1693219  0.17177288 0.16156046 0.14971405 0.1503268  0.15196078\n",
            " 0.14726307 0.14501634 0.14603758 0.12479575 0.13112745 0.11397059\n",
            " 0.1190768  0.12377451 0.13562092 0.12908497 0.13459967 0.12806373\n",
            " 0.13031046 0.12724673 0.13521242 0.14522059 0.15257353 0.14848856\n",
            " 0.14338235 0.14562908 0.15236928 0.15400327 0.14971405 0.1621732\n",
            " 0.16319444 0.16584967 0.16615    0.16829769 0.16965233 0.17067352\n",
            " 0.17153807 0.17231633 0.17304663 0.17375425 0.17445453 0.1751543\n",
            " 0.17585433 0.17655146 0.17724089 0.17791775]\n",
            "14 day output [[0.17857802]]\n",
            "15 day input [0.15788399 0.16441993 0.17892157 0.17933007 0.19260621 0.20812908\n",
            " 0.18974673 0.18055556 0.18239379 0.17708333 0.17810458 0.18055556\n",
            " 0.17810458 0.17851307 0.19607843 0.18913399 0.18954248 0.19403595\n",
            " 0.19444444 0.20200163 0.19771242 0.19934641 0.19873366 0.1997549\n",
            " 0.2128268  0.21568627 0.20445261 0.21772876 0.21098856 0.21425654\n",
            " 0.19750817 0.18811275 0.17851307 0.17381536 0.16033497 0.16564542\n",
            " 0.17116013 0.17422386 0.18035131 0.17401961 0.16278595 0.16973039\n",
            " 0.17810458 0.17034314 0.16830065 0.17279412 0.17544935 0.18382353\n",
            " 0.19138072 0.18913399 0.19097222 0.17238562 0.16830065 0.1693219\n",
            " 0.17177288 0.16156046 0.14971405 0.1503268  0.15196078 0.14726307\n",
            " 0.14501634 0.14603758 0.12479575 0.13112745 0.11397059 0.1190768\n",
            " 0.12377451 0.13562092 0.12908497 0.13459967 0.12806373 0.13031046\n",
            " 0.12724673 0.13521242 0.14522059 0.15257353 0.14848856 0.14338235\n",
            " 0.14562908 0.15236928 0.15400327 0.14971405 0.1621732  0.16319444\n",
            " 0.16584967 0.16615    0.16829769 0.16965233 0.17067352 0.17153807\n",
            " 0.17231633 0.17304663 0.17375425 0.17445453 0.1751543  0.17585433\n",
            " 0.17655146 0.17724089 0.17791775 0.17857802]\n",
            "15 day output [[0.179219]]\n",
            "16 day input [0.16441993 0.17892157 0.17933007 0.19260621 0.20812908 0.18974673\n",
            " 0.18055556 0.18239379 0.17708333 0.17810458 0.18055556 0.17810458\n",
            " 0.17851307 0.19607843 0.18913399 0.18954248 0.19403595 0.19444444\n",
            " 0.20200163 0.19771242 0.19934641 0.19873366 0.1997549  0.2128268\n",
            " 0.21568627 0.20445261 0.21772876 0.21098856 0.21425654 0.19750817\n",
            " 0.18811275 0.17851307 0.17381536 0.16033497 0.16564542 0.17116013\n",
            " 0.17422386 0.18035131 0.17401961 0.16278595 0.16973039 0.17810458\n",
            " 0.17034314 0.16830065 0.17279412 0.17544935 0.18382353 0.19138072\n",
            " 0.18913399 0.19097222 0.17238562 0.16830065 0.1693219  0.17177288\n",
            " 0.16156046 0.14971405 0.1503268  0.15196078 0.14726307 0.14501634\n",
            " 0.14603758 0.12479575 0.13112745 0.11397059 0.1190768  0.12377451\n",
            " 0.13562092 0.12908497 0.13459967 0.12806373 0.13031046 0.12724673\n",
            " 0.13521242 0.14522059 0.15257353 0.14848856 0.14338235 0.14562908\n",
            " 0.15236928 0.15400327 0.14971405 0.1621732  0.16319444 0.16584967\n",
            " 0.16615    0.16829769 0.16965233 0.17067352 0.17153807 0.17231633\n",
            " 0.17304663 0.17375425 0.17445453 0.1751543  0.17585433 0.17655146\n",
            " 0.17724089 0.17791775 0.17857802 0.17921899]\n",
            "16 day output [[0.17983945]]\n",
            "17 day input [0.17892157 0.17933007 0.19260621 0.20812908 0.18974673 0.18055556\n",
            " 0.18239379 0.17708333 0.17810458 0.18055556 0.17810458 0.17851307\n",
            " 0.19607843 0.18913399 0.18954248 0.19403595 0.19444444 0.20200163\n",
            " 0.19771242 0.19934641 0.19873366 0.1997549  0.2128268  0.21568627\n",
            " 0.20445261 0.21772876 0.21098856 0.21425654 0.19750817 0.18811275\n",
            " 0.17851307 0.17381536 0.16033497 0.16564542 0.17116013 0.17422386\n",
            " 0.18035131 0.17401961 0.16278595 0.16973039 0.17810458 0.17034314\n",
            " 0.16830065 0.17279412 0.17544935 0.18382353 0.19138072 0.18913399\n",
            " 0.19097222 0.17238562 0.16830065 0.1693219  0.17177288 0.16156046\n",
            " 0.14971405 0.1503268  0.15196078 0.14726307 0.14501634 0.14603758\n",
            " 0.12479575 0.13112745 0.11397059 0.1190768  0.12377451 0.13562092\n",
            " 0.12908497 0.13459967 0.12806373 0.13031046 0.12724673 0.13521242\n",
            " 0.14522059 0.15257353 0.14848856 0.14338235 0.14562908 0.15236928\n",
            " 0.15400327 0.14971405 0.1621732  0.16319444 0.16584967 0.16615\n",
            " 0.16829769 0.16965233 0.17067352 0.17153807 0.17231633 0.17304663\n",
            " 0.17375425 0.17445453 0.1751543  0.17585433 0.17655146 0.17724089\n",
            " 0.17791775 0.17857802 0.17921899 0.17983945]\n",
            "17 day output [[0.18043953]]\n",
            "18 day input [0.17933007 0.19260621 0.20812908 0.18974673 0.18055556 0.18239379\n",
            " 0.17708333 0.17810458 0.18055556 0.17810458 0.17851307 0.19607843\n",
            " 0.18913399 0.18954248 0.19403595 0.19444444 0.20200163 0.19771242\n",
            " 0.19934641 0.19873366 0.1997549  0.2128268  0.21568627 0.20445261\n",
            " 0.21772876 0.21098856 0.21425654 0.19750817 0.18811275 0.17851307\n",
            " 0.17381536 0.16033497 0.16564542 0.17116013 0.17422386 0.18035131\n",
            " 0.17401961 0.16278595 0.16973039 0.17810458 0.17034314 0.16830065\n",
            " 0.17279412 0.17544935 0.18382353 0.19138072 0.18913399 0.19097222\n",
            " 0.17238562 0.16830065 0.1693219  0.17177288 0.16156046 0.14971405\n",
            " 0.1503268  0.15196078 0.14726307 0.14501634 0.14603758 0.12479575\n",
            " 0.13112745 0.11397059 0.1190768  0.12377451 0.13562092 0.12908497\n",
            " 0.13459967 0.12806373 0.13031046 0.12724673 0.13521242 0.14522059\n",
            " 0.15257353 0.14848856 0.14338235 0.14562908 0.15236928 0.15400327\n",
            " 0.14971405 0.1621732  0.16319444 0.16584967 0.16615    0.16829769\n",
            " 0.16965233 0.17067352 0.17153807 0.17231633 0.17304663 0.17375425\n",
            " 0.17445453 0.1751543  0.17585433 0.17655146 0.17724089 0.17791775\n",
            " 0.17857802 0.17921899 0.17983945 0.18043953]\n",
            "18 day output [[0.1810203]]\n",
            "19 day input [0.19260621 0.20812908 0.18974673 0.18055556 0.18239379 0.17708333\n",
            " 0.17810458 0.18055556 0.17810458 0.17851307 0.19607843 0.18913399\n",
            " 0.18954248 0.19403595 0.19444444 0.20200163 0.19771242 0.19934641\n",
            " 0.19873366 0.1997549  0.2128268  0.21568627 0.20445261 0.21772876\n",
            " 0.21098856 0.21425654 0.19750817 0.18811275 0.17851307 0.17381536\n",
            " 0.16033497 0.16564542 0.17116013 0.17422386 0.18035131 0.17401961\n",
            " 0.16278595 0.16973039 0.17810458 0.17034314 0.16830065 0.17279412\n",
            " 0.17544935 0.18382353 0.19138072 0.18913399 0.19097222 0.17238562\n",
            " 0.16830065 0.1693219  0.17177288 0.16156046 0.14971405 0.1503268\n",
            " 0.15196078 0.14726307 0.14501634 0.14603758 0.12479575 0.13112745\n",
            " 0.11397059 0.1190768  0.12377451 0.13562092 0.12908497 0.13459967\n",
            " 0.12806373 0.13031046 0.12724673 0.13521242 0.14522059 0.15257353\n",
            " 0.14848856 0.14338235 0.14562908 0.15236928 0.15400327 0.14971405\n",
            " 0.1621732  0.16319444 0.16584967 0.16615    0.16829769 0.16965233\n",
            " 0.17067352 0.17153807 0.17231633 0.17304663 0.17375425 0.17445453\n",
            " 0.1751543  0.17585433 0.17655146 0.17724089 0.17791775 0.17857802\n",
            " 0.17921899 0.17983945 0.18043953 0.1810203 ]\n",
            "19 day output [[0.18158354]]\n",
            "20 day input [0.20812908 0.18974673 0.18055556 0.18239379 0.17708333 0.17810458\n",
            " 0.18055556 0.17810458 0.17851307 0.19607843 0.18913399 0.18954248\n",
            " 0.19403595 0.19444444 0.20200163 0.19771242 0.19934641 0.19873366\n",
            " 0.1997549  0.2128268  0.21568627 0.20445261 0.21772876 0.21098856\n",
            " 0.21425654 0.19750817 0.18811275 0.17851307 0.17381536 0.16033497\n",
            " 0.16564542 0.17116013 0.17422386 0.18035131 0.17401961 0.16278595\n",
            " 0.16973039 0.17810458 0.17034314 0.16830065 0.17279412 0.17544935\n",
            " 0.18382353 0.19138072 0.18913399 0.19097222 0.17238562 0.16830065\n",
            " 0.1693219  0.17177288 0.16156046 0.14971405 0.1503268  0.15196078\n",
            " 0.14726307 0.14501634 0.14603758 0.12479575 0.13112745 0.11397059\n",
            " 0.1190768  0.12377451 0.13562092 0.12908497 0.13459967 0.12806373\n",
            " 0.13031046 0.12724673 0.13521242 0.14522059 0.15257353 0.14848856\n",
            " 0.14338235 0.14562908 0.15236928 0.15400327 0.14971405 0.1621732\n",
            " 0.16319444 0.16584967 0.16615    0.16829769 0.16965233 0.17067352\n",
            " 0.17153807 0.17231633 0.17304663 0.17375425 0.17445453 0.1751543\n",
            " 0.17585433 0.17655146 0.17724089 0.17791775 0.17857802 0.17921899\n",
            " 0.17983945 0.18043953 0.1810203  0.18158354]\n",
            "20 day output [[0.18213116]]\n",
            "21 day input [0.18974673 0.18055556 0.18239379 0.17708333 0.17810458 0.18055556\n",
            " 0.17810458 0.17851307 0.19607843 0.18913399 0.18954248 0.19403595\n",
            " 0.19444444 0.20200163 0.19771242 0.19934641 0.19873366 0.1997549\n",
            " 0.2128268  0.21568627 0.20445261 0.21772876 0.21098856 0.21425654\n",
            " 0.19750817 0.18811275 0.17851307 0.17381536 0.16033497 0.16564542\n",
            " 0.17116013 0.17422386 0.18035131 0.17401961 0.16278595 0.16973039\n",
            " 0.17810458 0.17034314 0.16830065 0.17279412 0.17544935 0.18382353\n",
            " 0.19138072 0.18913399 0.19097222 0.17238562 0.16830065 0.1693219\n",
            " 0.17177288 0.16156046 0.14971405 0.1503268  0.15196078 0.14726307\n",
            " 0.14501634 0.14603758 0.12479575 0.13112745 0.11397059 0.1190768\n",
            " 0.12377451 0.13562092 0.12908497 0.13459967 0.12806373 0.13031046\n",
            " 0.12724673 0.13521242 0.14522059 0.15257353 0.14848856 0.14338235\n",
            " 0.14562908 0.15236928 0.15400327 0.14971405 0.1621732  0.16319444\n",
            " 0.16584967 0.16615    0.16829769 0.16965233 0.17067352 0.17153807\n",
            " 0.17231633 0.17304663 0.17375425 0.17445453 0.1751543  0.17585433\n",
            " 0.17655146 0.17724089 0.17791775 0.17857802 0.17921899 0.17983945\n",
            " 0.18043953 0.1810203  0.18158354 0.18213116]\n",
            "21 day output [[0.18266536]]\n",
            "22 day input [0.18055556 0.18239379 0.17708333 0.17810458 0.18055556 0.17810458\n",
            " 0.17851307 0.19607843 0.18913399 0.18954248 0.19403595 0.19444444\n",
            " 0.20200163 0.19771242 0.19934641 0.19873366 0.1997549  0.2128268\n",
            " 0.21568627 0.20445261 0.21772876 0.21098856 0.21425654 0.19750817\n",
            " 0.18811275 0.17851307 0.17381536 0.16033497 0.16564542 0.17116013\n",
            " 0.17422386 0.18035131 0.17401961 0.16278595 0.16973039 0.17810458\n",
            " 0.17034314 0.16830065 0.17279412 0.17544935 0.18382353 0.19138072\n",
            " 0.18913399 0.19097222 0.17238562 0.16830065 0.1693219  0.17177288\n",
            " 0.16156046 0.14971405 0.1503268  0.15196078 0.14726307 0.14501634\n",
            " 0.14603758 0.12479575 0.13112745 0.11397059 0.1190768  0.12377451\n",
            " 0.13562092 0.12908497 0.13459967 0.12806373 0.13031046 0.12724673\n",
            " 0.13521242 0.14522059 0.15257353 0.14848856 0.14338235 0.14562908\n",
            " 0.15236928 0.15400327 0.14971405 0.1621732  0.16319444 0.16584967\n",
            " 0.16615    0.16829769 0.16965233 0.17067352 0.17153807 0.17231633\n",
            " 0.17304663 0.17375425 0.17445453 0.1751543  0.17585433 0.17655146\n",
            " 0.17724089 0.17791775 0.17857802 0.17921899 0.17983945 0.18043953\n",
            " 0.1810203  0.18158354 0.18213116 0.18266536]\n",
            "22 day output [[0.18318774]]\n",
            "23 day input [0.18239379 0.17708333 0.17810458 0.18055556 0.17810458 0.17851307\n",
            " 0.19607843 0.18913399 0.18954248 0.19403595 0.19444444 0.20200163\n",
            " 0.19771242 0.19934641 0.19873366 0.1997549  0.2128268  0.21568627\n",
            " 0.20445261 0.21772876 0.21098856 0.21425654 0.19750817 0.18811275\n",
            " 0.17851307 0.17381536 0.16033497 0.16564542 0.17116013 0.17422386\n",
            " 0.18035131 0.17401961 0.16278595 0.16973039 0.17810458 0.17034314\n",
            " 0.16830065 0.17279412 0.17544935 0.18382353 0.19138072 0.18913399\n",
            " 0.19097222 0.17238562 0.16830065 0.1693219  0.17177288 0.16156046\n",
            " 0.14971405 0.1503268  0.15196078 0.14726307 0.14501634 0.14603758\n",
            " 0.12479575 0.13112745 0.11397059 0.1190768  0.12377451 0.13562092\n",
            " 0.12908497 0.13459967 0.12806373 0.13031046 0.12724673 0.13521242\n",
            " 0.14522059 0.15257353 0.14848856 0.14338235 0.14562908 0.15236928\n",
            " 0.15400327 0.14971405 0.1621732  0.16319444 0.16584967 0.16615\n",
            " 0.16829769 0.16965233 0.17067352 0.17153807 0.17231633 0.17304663\n",
            " 0.17375425 0.17445453 0.1751543  0.17585433 0.17655146 0.17724089\n",
            " 0.17791775 0.17857802 0.17921899 0.17983945 0.18043953 0.1810203\n",
            " 0.18158354 0.18213116 0.18266536 0.18318774]\n",
            "23 day output [[0.18369983]]\n",
            "24 day input [0.17708333 0.17810458 0.18055556 0.17810458 0.17851307 0.19607843\n",
            " 0.18913399 0.18954248 0.19403595 0.19444444 0.20200163 0.19771242\n",
            " 0.19934641 0.19873366 0.1997549  0.2128268  0.21568627 0.20445261\n",
            " 0.21772876 0.21098856 0.21425654 0.19750817 0.18811275 0.17851307\n",
            " 0.17381536 0.16033497 0.16564542 0.17116013 0.17422386 0.18035131\n",
            " 0.17401961 0.16278595 0.16973039 0.17810458 0.17034314 0.16830065\n",
            " 0.17279412 0.17544935 0.18382353 0.19138072 0.18913399 0.19097222\n",
            " 0.17238562 0.16830065 0.1693219  0.17177288 0.16156046 0.14971405\n",
            " 0.1503268  0.15196078 0.14726307 0.14501634 0.14603758 0.12479575\n",
            " 0.13112745 0.11397059 0.1190768  0.12377451 0.13562092 0.12908497\n",
            " 0.13459967 0.12806373 0.13031046 0.12724673 0.13521242 0.14522059\n",
            " 0.15257353 0.14848856 0.14338235 0.14562908 0.15236928 0.15400327\n",
            " 0.14971405 0.1621732  0.16319444 0.16584967 0.16615    0.16829769\n",
            " 0.16965233 0.17067352 0.17153807 0.17231633 0.17304663 0.17375425\n",
            " 0.17445453 0.1751543  0.17585433 0.17655146 0.17724089 0.17791775\n",
            " 0.17857802 0.17921899 0.17983945 0.18043953 0.1810203  0.18158354\n",
            " 0.18213116 0.18266536 0.18318774 0.18369983]\n",
            "24 day output [[0.18420261]]\n",
            "25 day input [0.17810458 0.18055556 0.17810458 0.17851307 0.19607843 0.18913399\n",
            " 0.18954248 0.19403595 0.19444444 0.20200163 0.19771242 0.19934641\n",
            " 0.19873366 0.1997549  0.2128268  0.21568627 0.20445261 0.21772876\n",
            " 0.21098856 0.21425654 0.19750817 0.18811275 0.17851307 0.17381536\n",
            " 0.16033497 0.16564542 0.17116013 0.17422386 0.18035131 0.17401961\n",
            " 0.16278595 0.16973039 0.17810458 0.17034314 0.16830065 0.17279412\n",
            " 0.17544935 0.18382353 0.19138072 0.18913399 0.19097222 0.17238562\n",
            " 0.16830065 0.1693219  0.17177288 0.16156046 0.14971405 0.1503268\n",
            " 0.15196078 0.14726307 0.14501634 0.14603758 0.12479575 0.13112745\n",
            " 0.11397059 0.1190768  0.12377451 0.13562092 0.12908497 0.13459967\n",
            " 0.12806373 0.13031046 0.12724673 0.13521242 0.14522059 0.15257353\n",
            " 0.14848856 0.14338235 0.14562908 0.15236928 0.15400327 0.14971405\n",
            " 0.1621732  0.16319444 0.16584967 0.16615    0.16829769 0.16965233\n",
            " 0.17067352 0.17153807 0.17231633 0.17304663 0.17375425 0.17445453\n",
            " 0.1751543  0.17585433 0.17655146 0.17724089 0.17791775 0.17857802\n",
            " 0.17921899 0.17983945 0.18043953 0.1810203  0.18158354 0.18213116\n",
            " 0.18266536 0.18318774 0.18369983 0.18420261]\n",
            "25 day output [[0.18469663]]\n",
            "26 day input [0.18055556 0.17810458 0.17851307 0.19607843 0.18913399 0.18954248\n",
            " 0.19403595 0.19444444 0.20200163 0.19771242 0.19934641 0.19873366\n",
            " 0.1997549  0.2128268  0.21568627 0.20445261 0.21772876 0.21098856\n",
            " 0.21425654 0.19750817 0.18811275 0.17851307 0.17381536 0.16033497\n",
            " 0.16564542 0.17116013 0.17422386 0.18035131 0.17401961 0.16278595\n",
            " 0.16973039 0.17810458 0.17034314 0.16830065 0.17279412 0.17544935\n",
            " 0.18382353 0.19138072 0.18913399 0.19097222 0.17238562 0.16830065\n",
            " 0.1693219  0.17177288 0.16156046 0.14971405 0.1503268  0.15196078\n",
            " 0.14726307 0.14501634 0.14603758 0.12479575 0.13112745 0.11397059\n",
            " 0.1190768  0.12377451 0.13562092 0.12908497 0.13459967 0.12806373\n",
            " 0.13031046 0.12724673 0.13521242 0.14522059 0.15257353 0.14848856\n",
            " 0.14338235 0.14562908 0.15236928 0.15400327 0.14971405 0.1621732\n",
            " 0.16319444 0.16584967 0.16615    0.16829769 0.16965233 0.17067352\n",
            " 0.17153807 0.17231633 0.17304663 0.17375425 0.17445453 0.1751543\n",
            " 0.17585433 0.17655146 0.17724089 0.17791775 0.17857802 0.17921899\n",
            " 0.17983945 0.18043953 0.1810203  0.18158354 0.18213116 0.18266536\n",
            " 0.18318774 0.18369983 0.18420261 0.18469663]\n",
            "26 day output [[0.18518224]]\n",
            "27 day input [0.17810458 0.17851307 0.19607843 0.18913399 0.18954248 0.19403595\n",
            " 0.19444444 0.20200163 0.19771242 0.19934641 0.19873366 0.1997549\n",
            " 0.2128268  0.21568627 0.20445261 0.21772876 0.21098856 0.21425654\n",
            " 0.19750817 0.18811275 0.17851307 0.17381536 0.16033497 0.16564542\n",
            " 0.17116013 0.17422386 0.18035131 0.17401961 0.16278595 0.16973039\n",
            " 0.17810458 0.17034314 0.16830065 0.17279412 0.17544935 0.18382353\n",
            " 0.19138072 0.18913399 0.19097222 0.17238562 0.16830065 0.1693219\n",
            " 0.17177288 0.16156046 0.14971405 0.1503268  0.15196078 0.14726307\n",
            " 0.14501634 0.14603758 0.12479575 0.13112745 0.11397059 0.1190768\n",
            " 0.12377451 0.13562092 0.12908497 0.13459967 0.12806373 0.13031046\n",
            " 0.12724673 0.13521242 0.14522059 0.15257353 0.14848856 0.14338235\n",
            " 0.14562908 0.15236928 0.15400327 0.14971405 0.1621732  0.16319444\n",
            " 0.16584967 0.16615    0.16829769 0.16965233 0.17067352 0.17153807\n",
            " 0.17231633 0.17304663 0.17375425 0.17445453 0.1751543  0.17585433\n",
            " 0.17655146 0.17724089 0.17791775 0.17857802 0.17921899 0.17983945\n",
            " 0.18043953 0.1810203  0.18158354 0.18213116 0.18266536 0.18318774\n",
            " 0.18369983 0.18420261 0.18469663 0.18518224]\n",
            "27 day output [[0.18565941]]\n",
            "28 day input [0.17851307 0.19607843 0.18913399 0.18954248 0.19403595 0.19444444\n",
            " 0.20200163 0.19771242 0.19934641 0.19873366 0.1997549  0.2128268\n",
            " 0.21568627 0.20445261 0.21772876 0.21098856 0.21425654 0.19750817\n",
            " 0.18811275 0.17851307 0.17381536 0.16033497 0.16564542 0.17116013\n",
            " 0.17422386 0.18035131 0.17401961 0.16278595 0.16973039 0.17810458\n",
            " 0.17034314 0.16830065 0.17279412 0.17544935 0.18382353 0.19138072\n",
            " 0.18913399 0.19097222 0.17238562 0.16830065 0.1693219  0.17177288\n",
            " 0.16156046 0.14971405 0.1503268  0.15196078 0.14726307 0.14501634\n",
            " 0.14603758 0.12479575 0.13112745 0.11397059 0.1190768  0.12377451\n",
            " 0.13562092 0.12908497 0.13459967 0.12806373 0.13031046 0.12724673\n",
            " 0.13521242 0.14522059 0.15257353 0.14848856 0.14338235 0.14562908\n",
            " 0.15236928 0.15400327 0.14971405 0.1621732  0.16319444 0.16584967\n",
            " 0.16615    0.16829769 0.16965233 0.17067352 0.17153807 0.17231633\n",
            " 0.17304663 0.17375425 0.17445453 0.1751543  0.17585433 0.17655146\n",
            " 0.17724089 0.17791775 0.17857802 0.17921899 0.17983945 0.18043953\n",
            " 0.1810203  0.18158354 0.18213116 0.18266536 0.18318774 0.18369983\n",
            " 0.18420261 0.18469663 0.18518224 0.18565941]\n",
            "28 day output [[0.18612784]]\n",
            "29 day input [0.19607843 0.18913399 0.18954248 0.19403595 0.19444444 0.20200163\n",
            " 0.19771242 0.19934641 0.19873366 0.1997549  0.2128268  0.21568627\n",
            " 0.20445261 0.21772876 0.21098856 0.21425654 0.19750817 0.18811275\n",
            " 0.17851307 0.17381536 0.16033497 0.16564542 0.17116013 0.17422386\n",
            " 0.18035131 0.17401961 0.16278595 0.16973039 0.17810458 0.17034314\n",
            " 0.16830065 0.17279412 0.17544935 0.18382353 0.19138072 0.18913399\n",
            " 0.19097222 0.17238562 0.16830065 0.1693219  0.17177288 0.16156046\n",
            " 0.14971405 0.1503268  0.15196078 0.14726307 0.14501634 0.14603758\n",
            " 0.12479575 0.13112745 0.11397059 0.1190768  0.12377451 0.13562092\n",
            " 0.12908497 0.13459967 0.12806373 0.13031046 0.12724673 0.13521242\n",
            " 0.14522059 0.15257353 0.14848856 0.14338235 0.14562908 0.15236928\n",
            " 0.15400327 0.14971405 0.1621732  0.16319444 0.16584967 0.16615\n",
            " 0.16829769 0.16965233 0.17067352 0.17153807 0.17231633 0.17304663\n",
            " 0.17375425 0.17445453 0.1751543  0.17585433 0.17655146 0.17724089\n",
            " 0.17791775 0.17857802 0.17921899 0.17983945 0.18043953 0.1810203\n",
            " 0.18158354 0.18213116 0.18266536 0.18318774 0.18369983 0.18420261\n",
            " 0.18469663 0.18518224 0.18565941 0.18612784]\n",
            "29 day output [[0.18658727]]\n",
            "[[0.16615000367164612], [0.1682976931333542], [0.1696523278951645], [0.17067351937294006], [0.1715380698442459], [0.17231632769107819], [0.17304663360118866], [0.1737542450428009], [0.17445452511310577], [0.17515429854393005], [0.17585432529449463], [0.1765514612197876], [0.17724089324474335], [0.1779177486896515], [0.17857801914215088], [0.17921899259090424], [0.17983944714069366], [0.1804395318031311], [0.18102030456066132], [0.18158353865146637], [0.18213115632534027], [0.1826653629541397], [0.18318773806095123], [0.183699831366539], [0.18420261144638062], [0.18469662964344025], [0.18518224358558655], [0.18565940856933594], [0.18612784147262573], [0.18658727407455444]]\n"
          ],
          "name": "stdout"
        }
      ]
    },
    {
      "cell_type": "code",
      "metadata": {
        "id": "7cb4M3zNWTFF"
      },
      "source": [
        "day_new = np.arange(1,101)\n",
        "day_pred = np.arange(101,131)"
      ],
      "execution_count": null,
      "outputs": []
    },
    {
      "cell_type": "code",
      "metadata": {
        "id": "0GKdbOvlWTFF"
      },
      "source": [
        "df3 = data_close.tolist()\n",
        "df3.extend(lst_output)"
      ],
      "execution_count": null,
      "outputs": []
    },
    {
      "cell_type": "code",
      "metadata": {
        "colab": {
          "base_uri": "https://localhost:8080/"
        },
        "id": "iKs66gMbWTFG",
        "outputId": "71a04d01-d1a1-498b-ff8b-5cacd2f505db"
      },
      "source": [
        "len(data_close)"
      ],
      "execution_count": null,
      "outputs": [
        {
          "output_type": "execute_result",
          "data": {
            "text/plain": [
              "2035"
            ]
          },
          "metadata": {},
          "execution_count": 30
        }
      ]
    },
    {
      "cell_type": "code",
      "metadata": {
        "colab": {
          "base_uri": "https://localhost:8080/",
          "height": 282
        },
        "id": "tylVkCRwWTFG",
        "outputId": "b828fc85-57b8-4075-fd78-d9c8a8fefa6a"
      },
      "source": [
        "plt.plot(day_new, scaler.inverse_transform(data_close[1935:]))\n",
        "plt.plot(day_pred, scaler.inverse_transform(lst_output))"
      ],
      "execution_count": null,
      "outputs": [
        {
          "output_type": "execute_result",
          "data": {
            "text/plain": [
              "[<matplotlib.lines.Line2D at 0x7f14454a1850>]"
            ]
          },
          "metadata": {},
          "execution_count": 31
        },
        {
          "output_type": "display_data",
          "data": {
            "image/png": "[encoded data removed]",
            "text/plain": [
              "<Figure size 432x288 with 1 Axes>"
            ]
          },
          "metadata": {
            "needs_background": "light"
          }
        }
      ]
    },
    {
      "cell_type": "markdown",
      "metadata": {
        "id": "P4MHhwb0nIqQ"
      },
      "source": [
        "---\n",
        "\n",
        "#<center>THANK YOU</center>\n",
        "\n",
        "---"
      ]
    }
  ]
}